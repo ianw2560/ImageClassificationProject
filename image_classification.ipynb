{
 "cells": [
  {
   "cell_type": "markdown",
   "id": "similar-prediction",
   "metadata": {},
   "source": [
    "Import libraries"
   ]
  },
  {
   "cell_type": "code",
   "execution_count": 5,
   "id": "matched-software",
   "metadata": {},
   "outputs": [],
   "source": [
    "import pandas as pd\n",
    "import numpy as np\n",
    "\n",
    "from matplotlib import image\n",
    "from matplotlib import pyplot as plt\n",
    "\n",
    "from PIL import Image\n",
    "\n",
    "from pathlib import Path\n"
   ]
  },
  {
   "cell_type": "code",
   "execution_count": 20,
   "id": "ethical-beast",
   "metadata": {},
   "outputs": [
    {
     "name": "stdout",
     "output_type": "stream",
     "text": [
      "Loading  buildings...\n",
      "Loading  forest...\n",
      "Loading  glacier...\n",
      "Loading  mountain...\n",
      "Loading  sea...\n",
      "Loading  street...\n",
      "(13986, 150, 150, 3)\n",
      "(14034,)\n",
      "There were 48 images that were not loaded.\n"
     ]
    }
   ],
   "source": [
    "trainX = []\n",
    "trainY = []\n",
    "\n",
    "classes = ['buildings', 'forest', 'glacier', 'mountain', 'sea', 'street']\n",
    "\n",
    "image_errors = 0\n",
    "\n",
    "# Load in all images\n",
    "for cls in classes:\n",
    "    print(\"Loading\", cls +\"...\")\n",
    "    image_folder_train = Path('./seg_train/seg_train/' + cls + '/').rglob('*.jpg')\n",
    "    files = [x for x in image_folder_train]\n",
    "    \n",
    "    # Load all files in each class directory\n",
    "    for f in files:      \n",
    "        trainY.append(cls)\n",
    "        image = Image.open(f)\n",
    "        image = np.asarray(image)\n",
    "        \n",
    "        if image.shape != (150, 150, 3):\n",
    "#             print(\"Error: image does not match required size.\")\n",
    "#             print(\"\\t\",image.shape)\n",
    "#             print(\"\\t\",f)\n",
    "            image_errors += 1\n",
    "            continue\n",
    "\n",
    "        trainX.append(image)\n",
    "    \n",
    "trainX = np.array(trainX)\n",
    "trainY = np.array(trainY)\n",
    "\n",
    "print(\"There were\", image_errors,\"images that were not loaded.\")\n",
    "\n",
    "print(trainX.shape)\n",
    "print(trainY.shape)"
   ]
  },
  {
   "cell_type": "code",
   "execution_count": 31,
   "id": "military-component",
   "metadata": {},
   "outputs": [
    {
     "name": "stdout",
     "output_type": "stream",
     "text": [
      "Loading buildings...\n",
      "Loading forest...\n",
      "Loading glacier...\n",
      "Loading mountain...\n",
      "Loading sea...\n",
      "Loading street...\n",
      "There were 7 images that were not loaded.\n",
      "(2993, 150, 150, 3)\n",
      "(3000,)\n"
     ]
    }
   ],
   "source": [
    "testX = []\n",
    "testY = []\n",
    "classes = ['buildings', 'forest', 'glacier', 'mountain', 'sea', 'street']\n",
    "image_errors = 0\n",
    "\n",
    "# Load in all images\n",
    "for cls in classes:\n",
    "    \n",
    "    print(\"Loading\", cls +\"...\")\n",
    "    \n",
    "    image_folder_test = Path('./seg_test/seg_test/' + cls + '/').rglob('*.jpg')\n",
    "    files = [x for x in image_folder_test]\n",
    "    \n",
    "    # Load all files in each class directory\n",
    "    for f in files:      \n",
    "        testY.append(cls)\n",
    "        image = Image.open(f)\n",
    "        image = np.asarray(image)\n",
    "        \n",
    "        # If an image is not 150x150x3, ignore it\n",
    "        if image.shape != (150, 150, 3):\n",
    "#             print(\"Error: image does not match required size.\")\n",
    "#             print(\"\\t\",image.shape)\n",
    "#             print(\"\\t\",f)\n",
    "            image_errors += 1\n",
    "            continue\n",
    "        \n",
    "        testX.append(image)\n",
    "    \n",
    "testX = np.array(testX)\n",
    "testY = np.array(testY)\n",
    "\n",
    "print(\"There were\", image_errors,\"images that were not loaded.\")\n",
    "\n",
    "print(testX.shape)\n",
    "print(testY.shape)"
   ]
  },
  {
   "cell_type": "code",
   "execution_count": null,
   "id": "competent-pixel",
   "metadata": {},
   "outputs": [],
   "source": []
  }
 ],
 "metadata": {
  "kernelspec": {
   "display_name": "Python 3",
   "language": "python",
   "name": "python3"
  },
  "language_info": {
   "codemirror_mode": {
    "name": "ipython",
    "version": 3
   },
   "file_extension": ".py",
   "mimetype": "text/x-python",
   "name": "python",
   "nbconvert_exporter": "python",
   "pygments_lexer": "ipython3",
   "version": "3.9.2"
  }
 },
 "nbformat": 4,
 "nbformat_minor": 5
}
